{
 "cells": [
  {
   "cell_type": "markdown",
   "id": "a3ec7a8d-8d2f-4b58-89f8-b3a8ad9caa6b",
   "metadata": {},
   "source": [
    "## Определение параметров системы связи на основе модели потерь распространения в канале"
   ]
  },
  {
   "cell_type": "code",
   "execution_count": 1,
   "id": "fc2fc6a9-2b1d-454b-9221-7957d01c60ca",
   "metadata": {},
   "outputs": [],
   "source": [
    "import numpy as np"
   ]
  },
  {
   "cell_type": "code",
   "execution_count": 2,
   "id": "20c44bba-abcf-4887-a612-e60530d4a58b",
   "metadata": {},
   "outputs": [],
   "source": [
    "import matplotlib.pyplot as plt"
   ]
  },
  {
   "cell_type": "code",
   "execution_count": 4,
   "id": "15cb17fe-48e9-4407-aff1-f440c7c2bdab",
   "metadata": {},
   "outputs": [],
   "source": [
    "from scipy import signal\n",
    "from scipy.signal import kaiserord, lfilter, firwin, freqz\n",
    "from scipy import fftpack"
   ]
  },
  {
   "cell_type": "code",
   "execution_count": 10,
   "id": "ae091ed5-55d7-43ab-9bce-9ad5b90cab36",
   "metadata": {},
   "outputs": [],
   "source": [
    "hbc = 30 #M\n",
    "\n",
    "hma = 2 #M \n",
    "\n",
    "f1 = 900 #Мгц\n",
    "\n",
    "C = 3\n",
    "\n",
    "Gt = 7 #dBi\n",
    "\n",
    "Gr = 2 #dBi\n",
    "\n",
    "r = 1 #km\n",
    "\n"
   ]
  },
  {
   "cell_type": "markdown",
   "id": "b036d141-fd99-4956-a2b5-fd3a84d061a8",
   "metadata": {},
   "source": [
    "# Pr = Pt + Gt + Gr - Pl(d)"
   ]
  },
  {
   "cell_type": "code",
   "execution_count": 9,
   "id": "f83fc926-5b88-46e1-bd43-124acc9a936c",
   "metadata": {},
   "outputs": [],
   "source": [
    "#поправочный коэффициент\n",
    "a1 = (1.11 * np.log10(f1) - 0.7) * hma - (1.56 * np.log10(f1) -0.8)\n",
    "\n",
    "# Модель Okumura-Hata\n",
    "Lokh = 69.55+26.16 * np.log10(f1) -13.83 * np.log10( hbc ) + (44.9 -6.55* np.log10( hbc ) ) *np.log10(r) - a1"
   ]
  },
  {
   "cell_type": "markdown",
   "id": "b5b12fdc-308e-461a-b0a9-796e11c5d86f",
   "metadata": {},
   "source": [
    "#    Рассчитать мощность сигнала на входе приёмника PrPr, необходимую для BER = 10−410−4:\n",
    "\n",
    "     Рассчитать уровень шума N0=kT, где k - постоянная Больцмана, T=290K (стандартная температура).\n",
    "\n",
    "     Рассчитать минимальную мощность на входе приёмника через Eb/N0 и скорость передачи:\n",
    "\n",
    "    Pr=Eb/N0×N0×R\n"
   ]
  },
  {
   "cell_type": "code",
   "execution_count": 11,
   "id": "bb8cb090-1bf0-47d0-beab-61b8c4307150",
   "metadata": {},
   "outputs": [],
   "source": [
    "k = 1.38 * 10 ** (-23) #Дж/К\n",
    "T = 290 #K\n"
   ]
  },
  {
   "cell_type": "code",
   "execution_count": null,
   "id": "0e094dba-5edc-4fe9-9ba8-098c1368b207",
   "metadata": {},
   "outputs": [],
   "source": []
  }
 ],
 "metadata": {
  "kernelspec": {
   "display_name": "Python 3 (ipykernel)",
   "language": "python",
   "name": "python3"
  },
  "language_info": {
   "codemirror_mode": {
    "name": "ipython",
    "version": 3
   },
   "file_extension": ".py",
   "mimetype": "text/x-python",
   "name": "python",
   "nbconvert_exporter": "python",
   "pygments_lexer": "ipython3",
   "version": "3.10.12"
  }
 },
 "nbformat": 4,
 "nbformat_minor": 5
}
